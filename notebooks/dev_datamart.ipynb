{
 "cells": [
  {
   "cell_type": "markdown",
   "metadata": {},
   "source": [
    "# データの加工を行う（データマート作成）"
   ]
  },
  {
   "cell_type": "code",
   "execution_count": 10,
   "metadata": {},
   "outputs": [],
   "source": [
    "import sys\n",
    "sys.path.append(\"..\")"
   ]
  },
  {
   "cell_type": "code",
   "execution_count": 11,
   "metadata": {},
   "outputs": [],
   "source": [
    "from src.infrastructure.read_write_csv_cash_account import ReadWriteCsvCashAcount\n",
    "rwc = ReadWriteCsvCashAcount()"
   ]
  },
  {
   "cell_type": "code",
   "execution_count": 12,
   "metadata": {},
   "outputs": [
    {
     "data": {
      "text/html": [
       "<div><style>\n",
       ".dataframe > thead > tr,\n",
       ".dataframe > tbody > tr {\n",
       "  text-align: right;\n",
       "  white-space: pre-wrap;\n",
       "}\n",
       "</style>\n",
       "<small>shape: (5, 7)</small><table border=\"1\" class=\"dataframe\"><thead><tr><th>取引日</th><th>入出金明細ＩＤ</th><th>受入金額（円）</th><th>払出金額（円）</th><th>詳細１</th><th>詳細２</th><th>現在（貸付）高</th></tr><tr><td>i64</td><td>str</td><td>i64</td><td>i64</td><td>str</td><td>str</td><td>i64</td></tr></thead><tbody><tr><td>20241105</td><td>&quot;XXXXXX&quot;</td><td>null</td><td>null</td><td>&quot;自払&quot;</td><td>&quot;XXXXXX&quot;</td><td>1312431</td></tr><tr><td>20241105</td><td>&quot;XXXXXX&quot;</td><td>null</td><td>43496</td><td>&quot;振込&quot;</td><td>&quot;XXXXXX&quot;</td><td>1268935</td></tr><tr><td>20241112</td><td>&quot;XXXXXX&quot;</td><td>17213</td><td>null</td><td>&quot;電気&quot;</td><td>&quot;XXXXXX&quot;</td><td>1286148</td></tr><tr><td>20241112</td><td>&quot;XXXXXX&quot;</td><td>null</td><td>30578</td><td>&quot;ＲＴ&quot;</td><td>&quot;XXXXXX&quot;</td><td>1255570</td></tr><tr><td>20241125</td><td>&quot;XXXXXX&quot;</td><td>8911</td><td>null</td><td>&quot;給与&quot;</td><td>&quot;XXXXXX&quot;</td><td>1264481</td></tr></tbody></table></div>"
      ],
      "text/plain": [
       "shape: (5, 7)\n",
       "┌──────────┬────────────────┬────────────────┬────────────────┬────────┬────────┬────────────────┐\n",
       "│ 取引日   ┆ 入出金明細ＩＤ ┆ 受入金額（円） ┆ 払出金額（円） ┆ 詳細１ ┆ 詳細２ ┆ 現在（貸付）高 │\n",
       "│ ---      ┆ ---            ┆ ---            ┆ ---            ┆ ---    ┆ ---    ┆ ---            │\n",
       "│ i64      ┆ str            ┆ i64            ┆ i64            ┆ str    ┆ str    ┆ i64            │\n",
       "╞══════════╪════════════════╪════════════════╪════════════════╪════════╪════════╪════════════════╡\n",
       "│ 20241105 ┆ XXXXXX         ┆ null           ┆ null           ┆ 自払   ┆ XXXXXX ┆ 1312431        │\n",
       "│ 20241105 ┆ XXXXXX         ┆ null           ┆ 43496          ┆ 振込   ┆ XXXXXX ┆ 1268935        │\n",
       "│ 20241112 ┆ XXXXXX         ┆ 17213          ┆ null           ┆ 電気   ┆ XXXXXX ┆ 1286148        │\n",
       "│ 20241112 ┆ XXXXXX         ┆ null           ┆ 30578          ┆ ＲＴ   ┆ XXXXXX ┆ 1255570        │\n",
       "│ 20241125 ┆ XXXXXX         ┆ 8911           ┆ null           ┆ 給与   ┆ XXXXXX ┆ 1264481        │\n",
       "└──────────┴────────────────┴────────────────┴────────────────┴────────┴────────┴────────────────┘"
      ]
     },
     "execution_count": 12,
     "metadata": {},
     "output_type": "execute_result"
    }
   ],
   "source": [
    "df = rwc.read_csv_raw(\"/Users/機械学習(独学)/ダッシュボード用データ/Rawデータ/ゆうちょ口座明細_サンプル\", \"202411\")\n",
    "df.head(5)"
   ]
  },
  {
   "cell_type": "markdown",
   "metadata": {},
   "source": [
    "# クラスの読み込み"
   ]
  },
  {
   "cell_type": "code",
   "execution_count": 13,
   "metadata": {},
   "outputs": [],
   "source": [
    "from src.usecase.create_datamart import CreateDatamart"
   ]
  },
  {
   "cell_type": "code",
   "execution_count": 14,
   "metadata": {},
   "outputs": [],
   "source": [
    "cd = CreateDatamart('../setting.yaml', '202411')"
   ]
  },
  {
   "cell_type": "code",
   "execution_count": 15,
   "metadata": {},
   "outputs": [],
   "source": [
    "cd.run_all()"
   ]
  },
  {
   "cell_type": "code",
   "execution_count": 16,
   "metadata": {},
   "outputs": [
    {
     "data": {
      "text/html": [
       "<div><style>\n",
       ".dataframe > thead > tr,\n",
       ".dataframe > tbody > tr {\n",
       "  text-align: right;\n",
       "  white-space: pre-wrap;\n",
       "}\n",
       "</style>\n",
       "<small>shape: (30, 1)</small><table border=\"1\" class=\"dataframe\"><thead><tr><th>date</th></tr><tr><td>str</td></tr></thead><tbody><tr><td>&quot;20241101&quot;</td></tr><tr><td>&quot;20241102&quot;</td></tr><tr><td>&quot;20241103&quot;</td></tr><tr><td>&quot;20241104&quot;</td></tr><tr><td>&quot;20241105&quot;</td></tr><tr><td>&hellip;</td></tr><tr><td>&quot;20241126&quot;</td></tr><tr><td>&quot;20241127&quot;</td></tr><tr><td>&quot;20241128&quot;</td></tr><tr><td>&quot;20241129&quot;</td></tr><tr><td>&quot;20241130&quot;</td></tr></tbody></table></div>"
      ],
      "text/plain": [
       "shape: (30, 1)\n",
       "┌──────────┐\n",
       "│ date     │\n",
       "│ ---      │\n",
       "│ str      │\n",
       "╞══════════╡\n",
       "│ 20241101 │\n",
       "│ 20241102 │\n",
       "│ 20241103 │\n",
       "│ 20241104 │\n",
       "│ 20241105 │\n",
       "│ …        │\n",
       "│ 20241126 │\n",
       "│ 20241127 │\n",
       "│ 20241128 │\n",
       "│ 20241129 │\n",
       "│ 20241130 │\n",
       "└──────────┘"
      ]
     },
     "execution_count": 16,
     "metadata": {},
     "output_type": "execute_result"
    }
   ],
   "source": [
    "date = cd.df_date\n",
    "date.head(30)"
   ]
  },
  {
   "cell_type": "code",
   "execution_count": 17,
   "metadata": {},
   "outputs": [
    {
     "data": {
      "text/html": [
       "<div><style>\n",
       ".dataframe > thead > tr,\n",
       ".dataframe > tbody > tr {\n",
       "  text-align: right;\n",
       "  white-space: pre-wrap;\n",
       "}\n",
       "</style>\n",
       "<small>shape: (10, 11)</small><table border=\"1\" class=\"dataframe\"><thead><tr><th>取引日</th><th>入出金明細ＩＤ</th><th>受入金額（円）</th><th>払出金額（円）</th><th>詳細１</th><th>詳細２</th><th>現在（貸付）高</th><th>次_現在（貸付）高</th><th>次_払出金額（円）</th><th>次_受入金額（円）</th><th>残高</th></tr><tr><td>str</td><td>f64</td><td>i64</td><td>i64</td><td>str</td><td>str</td><td>i64</td><td>i64</td><td>i64</td><td>i64</td><td>i64</td></tr></thead><tbody><tr><td>&quot;20241123&quot;</td><td>null</td><td>0</td><td>0</td><td>null</td><td>null</td><td>2057723</td><td>2057723</td><td>0</td><td>0</td><td>2057723</td></tr><tr><td>&quot;20241124&quot;</td><td>null</td><td>0</td><td>0</td><td>null</td><td>null</td><td>2057723</td><td>2277623</td><td>0</td><td>219900</td><td>2057723</td></tr><tr><td>&quot;20241125&quot;</td><td>2.0241e14</td><td>219900</td><td>0</td><td>&quot;給与&quot;</td><td>&quot;ﾔﾏﾄｳﾝﾕ(ｶ&quot;</td><td>2277623</td><td>2196507</td><td>81116</td><td>0</td><td>2277623</td></tr><tr><td>&quot;20241126&quot;</td><td>2.0241e14</td><td>0</td><td>81116</td><td>&quot;自払&quot;</td><td>&quot;三井住友カード&quot;</td><td>2196507</td><td>2194647</td><td>1860</td><td>0</td><td>2196507</td></tr><tr><td>&quot;20241126&quot;</td><td>2.0241e14</td><td>0</td><td>1860</td><td>&quot;電話&quot;</td><td>&quot;ｿﾌﾄﾊﾞﾝｸMB&quot;</td><td>2194647</td><td>2191187</td><td>3460</td><td>0</td><td>2194647</td></tr><tr><td>&quot;20241127&quot;</td><td>2.0241e14</td><td>0</td><td>3460</td><td>&quot;自払&quot;</td><td>&quot;DF.ﾍﾟｲﾃﾞｲ-&quot;</td><td>2191187</td><td>2163032</td><td>28155</td><td>0</td><td>2191187</td></tr><tr><td>&quot;20241127&quot;</td><td>2.0241e14</td><td>0</td><td>28155</td><td>&quot;自払&quot;</td><td>&quot;ﾍﾟｲﾍﾟｲｶｰﾄﾞ&quot;</td><td>2163032</td><td>2163032</td><td>0</td><td>0</td><td>2163032</td></tr><tr><td>&quot;20241128&quot;</td><td>null</td><td>0</td><td>0</td><td>null</td><td>null</td><td>2163032</td><td>2160032</td><td>3000</td><td>0</td><td>2163032</td></tr><tr><td>&quot;20241129&quot;</td><td>2.0241e14</td><td>0</td><td>3000</td><td>&quot;ＲＴ&quot;</td><td>&quot;(PAYPAY)&quot;</td><td>2160032</td><td>2160032</td><td>0</td><td>0</td><td>2160032</td></tr><tr><td>&quot;20241130&quot;</td><td>null</td><td>0</td><td>0</td><td>null</td><td>null</td><td>2160032</td><td>null</td><td>null</td><td>null</td><td>2160032</td></tr></tbody></table></div>"
      ],
      "text/plain": [
       "shape: (10, 11)\n",
       "┌──────────┬────────────┬────────────┬───────────┬───┬───────────┬───────────┬───────────┬─────────┐\n",
       "│ 取引日   ┆ 入出金明細 ┆ 受入金額（ ┆ 払出金額  ┆ … ┆ 次_現在（ ┆ 次_払出金 ┆ 次_受入金 ┆ 残高    │\n",
       "│ ---      ┆ ＩＤ       ┆ 円）       ┆ （円）    ┆   ┆ 貸付）高  ┆ 額（円）  ┆ 額（円）  ┆ ---     │\n",
       "│ str      ┆ ---        ┆ ---        ┆ ---       ┆   ┆ ---       ┆ ---       ┆ ---       ┆ i64     │\n",
       "│          ┆ f64        ┆ i64        ┆ i64       ┆   ┆ i64       ┆ i64       ┆ i64       ┆         │\n",
       "╞══════════╪════════════╪════════════╪═══════════╪═══╪═══════════╪═══════════╪═══════════╪═════════╡\n",
       "│ 20241123 ┆ null       ┆ 0          ┆ 0         ┆ … ┆ 2057723   ┆ 0         ┆ 0         ┆ 2057723 │\n",
       "│ 20241124 ┆ null       ┆ 0          ┆ 0         ┆ … ┆ 2277623   ┆ 0         ┆ 219900    ┆ 2057723 │\n",
       "│ 20241125 ┆ 2.0241e14  ┆ 219900     ┆ 0         ┆ … ┆ 2196507   ┆ 81116     ┆ 0         ┆ 2277623 │\n",
       "│ 20241126 ┆ 2.0241e14  ┆ 0          ┆ 81116     ┆ … ┆ 2194647   ┆ 1860      ┆ 0         ┆ 2196507 │\n",
       "│ 20241126 ┆ 2.0241e14  ┆ 0          ┆ 1860      ┆ … ┆ 2191187   ┆ 3460      ┆ 0         ┆ 2194647 │\n",
       "│ 20241127 ┆ 2.0241e14  ┆ 0          ┆ 3460      ┆ … ┆ 2163032   ┆ 28155     ┆ 0         ┆ 2191187 │\n",
       "│ 20241127 ┆ 2.0241e14  ┆ 0          ┆ 28155     ┆ … ┆ 2163032   ┆ 0         ┆ 0         ┆ 2163032 │\n",
       "│ 20241128 ┆ null       ┆ 0          ┆ 0         ┆ … ┆ 2160032   ┆ 3000      ┆ 0         ┆ 2163032 │\n",
       "│ 20241129 ┆ 2.0241e14  ┆ 0          ┆ 3000      ┆ … ┆ 2160032   ┆ 0         ┆ 0         ┆ 2160032 │\n",
       "│ 20241130 ┆ null       ┆ 0          ┆ 0         ┆ … ┆ null      ┆ null      ┆ null      ┆ 2160032 │\n",
       "└──────────┴────────────┴────────────┴───────────┴───┴───────────┴───────────┴───────────┴─────────┘"
      ]
     },
     "execution_count": 17,
     "metadata": {},
     "output_type": "execute_result"
    }
   ],
   "source": [
    "t = cd._closs_joined_date_fillnull\n",
    "t.tail(10)"
   ]
  },
  {
   "cell_type": "code",
   "execution_count": 18,
   "metadata": {},
   "outputs": [
    {
     "data": {
      "text/html": [
       "<div><style>\n",
       ".dataframe > thead > tr,\n",
       ".dataframe > tbody > tr {\n",
       "  text-align: right;\n",
       "  white-space: pre-wrap;\n",
       "}\n",
       "</style>\n",
       "<small>shape: (5, 6)</small><table border=\"1\" class=\"dataframe\"><thead><tr><th>取引日</th><th>収入</th><th>支出</th><th>種類</th><th>対象</th><th>残高</th></tr><tr><td>i64</td><td>i64</td><td>i64</td><td>str</td><td>str</td><td>i64</td></tr></thead><tbody><tr><td>20241101</td><td>0</td><td>0</td><td>null</td><td>null</td><td>2095970</td></tr><tr><td>20241102</td><td>0</td><td>0</td><td>null</td><td>null</td><td>2095970</td></tr><tr><td>20241103</td><td>0</td><td>0</td><td>null</td><td>null</td><td>2095970</td></tr><tr><td>20241104</td><td>0</td><td>0</td><td>null</td><td>null</td><td>2095970</td></tr><tr><td>20241105</td><td>0</td><td>31353</td><td>&quot;自払&quot;</td><td>&quot;ﾋﾞｭｰｶｰﾄﾞ&quot;</td><td>2064617</td></tr></tbody></table></div>"
      ],
      "text/plain": [
       "shape: (5, 6)\n",
       "┌──────────┬──────┬───────┬──────┬────────┬─────────┐\n",
       "│ 取引日   ┆ 収入 ┆ 支出  ┆ 種類 ┆ 対象   ┆ 残高    │\n",
       "│ ---      ┆ ---  ┆ ---   ┆ ---  ┆ ---    ┆ ---     │\n",
       "│ i64      ┆ i64  ┆ i64   ┆ str  ┆ str    ┆ i64     │\n",
       "╞══════════╪══════╪═══════╪══════╪════════╪═════════╡\n",
       "│ 20241101 ┆ 0    ┆ 0     ┆ null ┆ null   ┆ 2095970 │\n",
       "│ 20241102 ┆ 0    ┆ 0     ┆ null ┆ null   ┆ 2095970 │\n",
       "│ 20241103 ┆ 0    ┆ 0     ┆ null ┆ null   ┆ 2095970 │\n",
       "│ 20241104 ┆ 0    ┆ 0     ┆ null ┆ null   ┆ 2095970 │\n",
       "│ 20241105 ┆ 0    ┆ 31353 ┆ 自払 ┆ ﾋﾞｭｰｶｰﾄﾞ ┆ 2064617 │\n",
       "└──────────┴──────┴───────┴──────┴────────┴─────────┘"
      ]
     },
     "execution_count": 18,
     "metadata": {},
     "output_type": "execute_result"
    }
   ],
   "source": [
    "tmp = rwc.read_csv(\"/Users/機械学習(独学)/ダッシュボード用データ/データマート/ゆうちょ口座明細\", \"202411\")\n",
    "tmp.head()"
   ]
  },
  {
   "cell_type": "code",
   "execution_count": null,
   "metadata": {},
   "outputs": [],
   "source": []
  }
 ],
 "metadata": {
  "kernelspec": {
   "display_name": "py310",
   "language": "python",
   "name": "python3"
  },
  "language_info": {
   "codemirror_mode": {
    "name": "ipython",
    "version": 3
   },
   "file_extension": ".py",
   "mimetype": "text/x-python",
   "name": "python",
   "nbconvert_exporter": "python",
   "pygments_lexer": "ipython3",
   "version": "3.10.14"
  }
 },
 "nbformat": 4,
 "nbformat_minor": 2
}
