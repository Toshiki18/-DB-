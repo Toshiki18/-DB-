{
 "cells": [
  {
   "cell_type": "code",
   "execution_count": 1,
   "metadata": {},
   "outputs": [
    {
     "name": "stdout",
     "output_type": "stream",
     "text": [
      "Requirement already satisfied: black in /Users/oyamatoshiki/anaconda3/envs/py310/lib/python3.10/site-packages (24.10.0)\n",
      "Requirement already satisfied: click>=8.0.0 in /Users/oyamatoshiki/anaconda3/envs/py310/lib/python3.10/site-packages (from black) (8.1.7)\n",
      "Requirement already satisfied: mypy-extensions>=0.4.3 in /Users/oyamatoshiki/anaconda3/envs/py310/lib/python3.10/site-packages (from black) (1.0.0)\n",
      "Requirement already satisfied: packaging>=22.0 in /Users/oyamatoshiki/anaconda3/envs/py310/lib/python3.10/site-packages (from black) (24.1)\n",
      "Requirement already satisfied: pathspec>=0.9.0 in /Users/oyamatoshiki/anaconda3/envs/py310/lib/python3.10/site-packages (from black) (0.12.1)\n",
      "Requirement already satisfied: platformdirs>=2 in /Users/oyamatoshiki/anaconda3/envs/py310/lib/python3.10/site-packages (from black) (4.2.2)\n",
      "Requirement already satisfied: tomli>=1.1.0 in /Users/oyamatoshiki/anaconda3/envs/py310/lib/python3.10/site-packages (from black) (2.0.1)\n",
      "Requirement already satisfied: typing-extensions>=4.0.1 in /Users/oyamatoshiki/anaconda3/envs/py310/lib/python3.10/site-packages (from black) (4.12.2)\n",
      "Note: you may need to restart the kernel to use updated packages.\n"
     ]
    }
   ],
   "source": [
    "%pip install black"
   ]
  },
  {
   "cell_type": "code",
   "execution_count": 18,
   "metadata": {},
   "outputs": [
    {
     "name": "stdout",
     "output_type": "stream",
     "text": [
      "\u001b[1mreformatted /Users/機械学習(独学)/ダッシュボード作成/src/dashboard/plotly_dash.py\u001b[0m\n",
      "\n",
      "\u001b[1mAll done! ✨ 🍰 ✨\u001b[0m\n",
      "\u001b[34m\u001b[1m1 file \u001b[0m\u001b[1mreformatted\u001b[0m.\n"
     ]
    }
   ],
   "source": [
    "!black \"/Users/機械学習(独学)/ダッシュボード作成/src/dashboard/plotly_dash.py\""
   ]
  }
 ],
 "metadata": {
  "kernelspec": {
   "display_name": "py310",
   "language": "python",
   "name": "python3"
  },
  "language_info": {
   "codemirror_mode": {
    "name": "ipython",
    "version": 3
   },
   "file_extension": ".py",
   "mimetype": "text/x-python",
   "name": "python",
   "nbconvert_exporter": "python",
   "pygments_lexer": "ipython3",
   "version": "3.10.14"
  }
 },
 "nbformat": 4,
 "nbformat_minor": 2
}
