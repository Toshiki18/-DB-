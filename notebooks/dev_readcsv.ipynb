{
 "cells": [
  {
   "cell_type": "code",
   "execution_count": 1,
   "metadata": {},
   "outputs": [],
   "source": [
    "import sys\n",
    "sys.path.append(\"..\")"
   ]
  },
  {
   "cell_type": "code",
   "execution_count": 2,
   "metadata": {},
   "outputs": [],
   "source": [
    "from src.infrastructure.read_csv_cash_account import ReadCsvCashAcount\n",
    "rc = ReadCsvCashAcount()"
   ]
  },
  {
   "cell_type": "code",
   "execution_count": 8,
   "metadata": {},
   "outputs": [
    {
     "data": {
      "text/html": [
       "<div><style>\n",
       ".dataframe > thead > tr,\n",
       ".dataframe > tbody > tr {\n",
       "  text-align: right;\n",
       "  white-space: pre-wrap;\n",
       "}\n",
       "</style>\n",
       "<small>shape: (5, 7)</small><table border=\"1\" class=\"dataframe\"><thead><tr><th>取引日</th><th>入出金明細ＩＤ</th><th>受入金額（円）</th><th>払出金額（円）</th><th>詳細１</th><th>詳細２</th><th>現在（貸付）高</th></tr><tr><td>i64</td><td>str</td><td>i64</td><td>i64</td><td>str</td><td>str</td><td>i64</td></tr></thead><tbody><tr><td>20241105</td><td>&quot;XXXXXX&quot;</td><td>null</td><td>null</td><td>&quot;自払&quot;</td><td>&quot;XXXXXX&quot;</td><td>1312431</td></tr><tr><td>20241105</td><td>&quot;XXXXXX&quot;</td><td>null</td><td>43496</td><td>&quot;振込&quot;</td><td>&quot;XXXXXX&quot;</td><td>1268935</td></tr><tr><td>20241112</td><td>&quot;XXXXXX&quot;</td><td>17213</td><td>null</td><td>&quot;電気&quot;</td><td>&quot;XXXXXX&quot;</td><td>1286148</td></tr><tr><td>20241112</td><td>&quot;XXXXXX&quot;</td><td>null</td><td>30578</td><td>&quot;ＲＴ&quot;</td><td>&quot;XXXXXX&quot;</td><td>1255570</td></tr><tr><td>20241125</td><td>&quot;XXXXXX&quot;</td><td>8911</td><td>null</td><td>&quot;給与&quot;</td><td>&quot;XXXXXX&quot;</td><td>1264481</td></tr></tbody></table></div>"
      ],
      "text/plain": [
       "shape: (5, 7)\n",
       "┌──────────┬────────────────┬────────────────┬────────────────┬────────┬────────┬────────────────┐\n",
       "│ 取引日   ┆ 入出金明細ＩＤ ┆ 受入金額（円） ┆ 払出金額（円） ┆ 詳細１ ┆ 詳細２ ┆ 現在（貸付）高 │\n",
       "│ ---      ┆ ---            ┆ ---            ┆ ---            ┆ ---    ┆ ---    ┆ ---            │\n",
       "│ i64      ┆ str            ┆ i64            ┆ i64            ┆ str    ┆ str    ┆ i64            │\n",
       "╞══════════╪════════════════╪════════════════╪════════════════╪════════╪════════╪════════════════╡\n",
       "│ 20241105 ┆ XXXXXX         ┆ null           ┆ null           ┆ 自払   ┆ XXXXXX ┆ 1312431        │\n",
       "│ 20241105 ┆ XXXXXX         ┆ null           ┆ 43496          ┆ 振込   ┆ XXXXXX ┆ 1268935        │\n",
       "│ 20241112 ┆ XXXXXX         ┆ 17213          ┆ null           ┆ 電気   ┆ XXXXXX ┆ 1286148        │\n",
       "│ 20241112 ┆ XXXXXX         ┆ null           ┆ 30578          ┆ ＲＴ   ┆ XXXXXX ┆ 1255570        │\n",
       "│ 20241125 ┆ XXXXXX         ┆ 8911           ┆ null           ┆ 給与   ┆ XXXXXX ┆ 1264481        │\n",
       "└──────────┴────────────────┴────────────────┴────────────────┴────────┴────────┴────────────────┘"
      ]
     },
     "execution_count": 8,
     "metadata": {},
     "output_type": "execute_result"
    }
   ],
   "source": [
    "df = rc.read_csv(\"/Users/機械学習(独学)/ダッシュボード用データ/Rawデータ/ゆうちょ口座明細_サンプル\", \"202411\")\n",
    "df.head(5)"
   ]
  }
 ],
 "metadata": {
  "kernelspec": {
   "display_name": "py310",
   "language": "python",
   "name": "python3"
  },
  "language_info": {
   "codemirror_mode": {
    "name": "ipython",
    "version": 3
   },
   "file_extension": ".py",
   "mimetype": "text/x-python",
   "name": "python",
   "nbconvert_exporter": "python",
   "pygments_lexer": "ipython3",
   "version": "3.10.14"
  }
 },
 "nbformat": 4,
 "nbformat_minor": 2
}
